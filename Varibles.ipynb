{
 "cells": [
  {
   "cell_type": "markdown",
   "id": "93cecd1f-9b97-478a-ad02-1303c9d4aaea",
   "metadata": {},
   "source": [
    "# Varibles"
   ]
  },
  {
   "cell_type": "code",
   "execution_count": null,
   "id": "12e390f5-e510-406a-be22-9f2166dc182f",
   "metadata": {},
   "outputs": [],
   "source": [
    "Variables are used to store the value\n",
    "\n",
    "a python variable is only name given to a memory location"
   ]
  },
  {
   "cell_type": "code",
   "execution_count": 6,
   "id": "f6bf7afd-948d-4996-8802-c8c38bd048d7",
   "metadata": {},
   "outputs": [
    {
     "data": {
      "text/plain": [
       "10"
      ]
     },
     "execution_count": 6,
     "metadata": {},
     "output_type": "execute_result"
    }
   ],
   "source": [
    "10"
   ]
  },
  {
   "cell_type": "code",
   "execution_count": 7,
   "id": "03c72d2f-7acb-4ac9-9de0-fd018e3b03fb",
   "metadata": {},
   "outputs": [
    {
     "data": {
      "text/plain": [
       "30"
      ]
     },
     "execution_count": 7,
     "metadata": {},
     "output_type": "execute_result"
    }
   ],
   "source": [
    "10+20"
   ]
  },
  {
   "cell_type": "code",
   "execution_count": 8,
   "id": "7362caf3-04f0-402c-b02a-dd4d5b633a8c",
   "metadata": {},
   "outputs": [
    {
     "data": {
      "text/plain": [
       "2.0"
      ]
     },
     "execution_count": 8,
     "metadata": {},
     "output_type": "execute_result"
    }
   ],
   "source": [
    "20/10"
   ]
  },
  {
   "cell_type": "code",
   "execution_count": 9,
   "id": "c3631de0-11d7-4505-8acb-6c74c8782044",
   "metadata": {},
   "outputs": [
    {
     "data": {
      "text/plain": [
       "100"
      ]
     },
     "execution_count": 9,
     "metadata": {},
     "output_type": "execute_result"
    }
   ],
   "source": [
    "10*10"
   ]
  },
  {
   "cell_type": "code",
   "execution_count": 4,
   "id": "d47839bd-689b-49f6-b8a2-6418db0ab219",
   "metadata": {},
   "outputs": [
    {
     "name": "stdout",
     "output_type": "stream",
     "text": [
      "20\n"
     ]
    }
   ],
   "source": [
    "a = 20\n",
    "print(a)"
   ]
  },
  {
   "cell_type": "code",
   "execution_count": 5,
   "id": "fc41ded2-2dc0-4275-8e59-8b13b41c2452",
   "metadata": {},
   "outputs": [
    {
     "name": "stdout",
     "output_type": "stream",
     "text": [
      "30\n"
     ]
    }
   ],
   "source": [
    "a = 30\n",
    "print(a)"
   ]
  },
  {
   "cell_type": "code",
   "execution_count": 6,
   "id": "bd5ffcb1-4fcf-42c0-bcff-8c976b5b0d20",
   "metadata": {},
   "outputs": [
    {
     "name": "stdout",
     "output_type": "stream",
     "text": [
      "30\n"
     ]
    }
   ],
   "source": [
    "a = 30\n",
    "print(a)"
   ]
  },
  {
   "cell_type": "code",
   "execution_count": 4,
   "id": "8932cdd8-f1ca-4581-a9ae-ce0857dc055c",
   "metadata": {},
   "outputs": [
    {
     "name": "stdout",
     "output_type": "stream",
     "text": [
      "50\n"
     ]
    }
   ],
   "source": [
    "a = 50\n",
    "print(a)"
   ]
  },
  {
   "cell_type": "code",
   "execution_count": 8,
   "id": "e861e62f-f7c7-49ba-9158-a12862503b61",
   "metadata": {},
   "outputs": [
    {
     "data": {
      "text/plain": [
       "int"
      ]
     },
     "execution_count": 8,
     "metadata": {},
     "output_type": "execute_result"
    }
   ],
   "source": [
    "type(a)"
   ]
  },
  {
   "cell_type": "code",
   "execution_count": 3,
   "id": "69115039-b216-4e9c-b204-17100b6f3d09",
   "metadata": {},
   "outputs": [
    {
     "data": {
      "text/plain": [
       "int"
      ]
     },
     "execution_count": 3,
     "metadata": {},
     "output_type": "execute_result"
    }
   ],
   "source": [
    "type(a)"
   ]
  },
  {
   "cell_type": "markdown",
   "id": "cd8f7522-8ccd-42c7-9648-73efa3d5e295",
   "metadata": {},
   "source": [
    "# Rules to define an Variable"
   ]
  },
  {
   "cell_type": "code",
   "execution_count": null,
   "id": "af97d206-2c32-4a05-843c-6f5d86b024a0",
   "metadata": {},
   "outputs": [],
   "source": [
    "Identifiers  >> Variables, Function Name , Class Name\n",
    "\n",
    "1. A variable must be starts with a letter (a-z,A-Z) or the underscore(_)\n",
    "\n",
    "2. Variable names are case sensitive.\n",
    "\n",
    "3. A variable names can only contain alpha-numeric characters and underscore (A-Z,a-z,0-9,_)\n",
    "\n",
    "4. We can not use special character (@,#,$,^,&) or space\n",
    "\n",
    "5. We can not use reserved Words\n",
    "\n",
    "6.Do not use python built in functions >> Print, help,sum, min, max,...\n",
    "\n",
    "    Python Built in Function >> Light green Colour >> print, help,sum, min, max,...\n",
    "    Python reserved Words    >> Bold Green Colour  >> True,False,import,if, else,....\n",
    "\n",
    "\n",
    "del    >> Used to delete variable\n",
    "type() >> Type is function used to check datatype of any varible\n",
    "    "
   ]
  },
  {
   "cell_type": "code",
   "execution_count": 11,
   "id": "d9b0d6dd-180b-4062-a0b3-a802c5dc2d42",
   "metadata": {},
   "outputs": [
    {
     "ename": "NameError",
     "evalue": "name 'A' is not defined",
     "output_type": "error",
     "traceback": [
      "\u001b[1;31m---------------------------------------------------------------------------\u001b[0m",
      "\u001b[1;31mNameError\u001b[0m                                 Traceback (most recent call last)",
      "Cell \u001b[1;32mIn[11], line 2\u001b[0m\n\u001b[0;32m      1\u001b[0m a\u001b[38;5;241m=\u001b[39m \u001b[38;5;241m10\u001b[39m\n\u001b[1;32m----> 2\u001b[0m \u001b[38;5;28mprint\u001b[39m(A)\n",
      "\u001b[1;31mNameError\u001b[0m: name 'A' is not defined"
     ]
    }
   ],
   "source": [
    "a = 10\n",
    "print(A)"
   ]
  },
  {
   "cell_type": "code",
   "execution_count": 13,
   "id": "a2542631-2386-4e37-ae71-724084d0b128",
   "metadata": {},
   "outputs": [
    {
     "name": "stdout",
     "output_type": "stream",
     "text": [
      "Python\n"
     ]
    }
   ],
   "source": [
    "myVar = 'Python'\n",
    "print(myVar)"
   ]
  },
  {
   "cell_type": "code",
   "execution_count": 15,
   "id": "2be56ef0-84ad-418b-babb-1e8c6cc8320f",
   "metadata": {},
   "outputs": [
    {
     "ename": "NameError",
     "evalue": "name 'MyVar' is not defined",
     "output_type": "error",
     "traceback": [
      "\u001b[1;31m---------------------------------------------------------------------------\u001b[0m",
      "\u001b[1;31mNameError\u001b[0m                                 Traceback (most recent call last)",
      "Cell \u001b[1;32mIn[15], line 1\u001b[0m\n\u001b[1;32m----> 1\u001b[0m \u001b[38;5;28mprint\u001b[39m(MyVar)\n",
      "\u001b[1;31mNameError\u001b[0m: name 'MyVar' is not defined"
     ]
    }
   ],
   "source": [
    "print(MyVar)"
   ]
  },
  {
   "cell_type": "code",
   "execution_count": 17,
   "id": "2e67b035-fd43-4c4c-ad58-9b39105ed600",
   "metadata": {},
   "outputs": [
    {
     "ename": "SyntaxError",
     "evalue": "cannot assign to expression here. Maybe you meant '==' instead of '='? (2577208337.py, line 1)",
     "output_type": "error",
     "traceback": [
      "\u001b[1;36m  Cell \u001b[1;32mIn[17], line 1\u001b[1;36m\u001b[0m\n\u001b[1;33m    my@Var = 'Python'\u001b[0m\n\u001b[1;37m    ^\u001b[0m\n\u001b[1;31mSyntaxError\u001b[0m\u001b[1;31m:\u001b[0m cannot assign to expression here. Maybe you meant '==' instead of '='?\n"
     ]
    }
   ],
   "source": [
    "my@Var = 'Python'\n",
    "print(my@Var)"
   ]
  },
  {
   "cell_type": "code",
   "execution_count": 19,
   "id": "853ba158-364e-44da-952e-37e3161eed2f",
   "metadata": {},
   "outputs": [
    {
     "ename": "SyntaxError",
     "evalue": "invalid decimal literal (544154572.py, line 1)",
     "output_type": "error",
     "traceback": [
      "\u001b[1;36m  Cell \u001b[1;32mIn[19], line 1\u001b[1;36m\u001b[0m\n\u001b[1;33m    123myVar = 'Python'\u001b[0m\n\u001b[1;37m      ^\u001b[0m\n\u001b[1;31mSyntaxError\u001b[0m\u001b[1;31m:\u001b[0m invalid decimal literal\n"
     ]
    }
   ],
   "source": [
    "123myVar = 'Python'\n",
    "print(123myVar)"
   ]
  },
  {
   "cell_type": "code",
   "execution_count": 21,
   "id": "fd591f64-12c2-43e4-9887-e68740bb54f4",
   "metadata": {},
   "outputs": [
    {
     "name": "stdout",
     "output_type": "stream",
     "text": [
      "Python\n"
     ]
    }
   ],
   "source": [
    "_123myVar = 'Python'\n",
    "print(_123myVar)"
   ]
  },
  {
   "cell_type": "code",
   "execution_count": 23,
   "id": "2d348b52-a54d-4425-96db-c64834c8948a",
   "metadata": {},
   "outputs": [
    {
     "name": "stdout",
     "output_type": "stream",
     "text": [
      "Python\n"
     ]
    }
   ],
   "source": [
    "my_Var = 'Python'\n",
    "print(my_Var)"
   ]
  },
  {
   "cell_type": "code",
   "execution_count": 25,
   "id": "ce370ee5-f1f5-4c43-ab35-5ab3e16b2224",
   "metadata": {},
   "outputs": [
    {
     "ename": "SyntaxError",
     "evalue": "invalid syntax (2163909101.py, line 1)",
     "output_type": "error",
     "traceback": [
      "\u001b[1;36m  Cell \u001b[1;32mIn[25], line 1\u001b[1;36m\u001b[0m\n\u001b[1;33m    my Var = 'Python'\u001b[0m\n\u001b[1;37m       ^\u001b[0m\n\u001b[1;31mSyntaxError\u001b[0m\u001b[1;31m:\u001b[0m invalid syntax\n"
     ]
    }
   ],
   "source": [
    "my Var = 'Python'\n",
    "print(my Var)"
   ]
  },
  {
   "cell_type": "code",
   "execution_count": 27,
   "id": "f2856a72-cfa5-4a3a-b7e3-b5bbdd4eb153",
   "metadata": {},
   "outputs": [
    {
     "name": "stdout",
     "output_type": "stream",
     "text": [
      "\n",
      "Here is a list of the Python keywords.  Enter any keyword to get more help.\n",
      "\n",
      "False               class               from                or\n",
      "None                continue            global              pass\n",
      "True                def                 if                  raise\n",
      "and                 del                 import              return\n",
      "as                  elif                in                  try\n",
      "assert              else                is                  while\n",
      "async               except              lambda              with\n",
      "await               finally             nonlocal            yield\n",
      "break               for                 not                 \n",
      "\n"
     ]
    }
   ],
   "source": [
    "help('keywords')"
   ]
  },
  {
   "cell_type": "code",
   "execution_count": 29,
   "id": "0b6097c9-9dba-486a-8af5-7b2e41ef4339",
   "metadata": {},
   "outputs": [
    {
     "data": {
      "text/plain": [
       "[1, 2, 3, 4]"
      ]
     },
     "execution_count": 29,
     "metadata": {},
     "output_type": "execute_result"
    }
   ],
   "source": [
    "list1 = [1,2,3,4]\n",
    "list1"
   ]
  },
  {
   "cell_type": "code",
   "execution_count": 31,
   "id": "9558fa33-c1a2-40ef-aa99-802801c3b106",
   "metadata": {},
   "outputs": [
    {
     "data": {
      "text/plain": [
       "1"
      ]
     },
     "execution_count": 31,
     "metadata": {},
     "output_type": "execute_result"
    }
   ],
   "source": [
    "min(list1)"
   ]
  },
  {
   "cell_type": "code",
   "execution_count": 33,
   "id": "744a31f8-7b68-4829-9214-9ab8356355fd",
   "metadata": {},
   "outputs": [
    {
     "name": "stdout",
     "output_type": "stream",
     "text": [
      "10\n"
     ]
    }
   ],
   "source": [
    "min = 10\n",
    "print(min)"
   ]
  },
  {
   "cell_type": "code",
   "execution_count": 35,
   "id": "973f1556-a61d-4e9e-8f7f-c6816b11282e",
   "metadata": {},
   "outputs": [
    {
     "ename": "TypeError",
     "evalue": "'int' object is not callable",
     "output_type": "error",
     "traceback": [
      "\u001b[1;31m---------------------------------------------------------------------------\u001b[0m",
      "\u001b[1;31mTypeError\u001b[0m                                 Traceback (most recent call last)",
      "Cell \u001b[1;32mIn[35], line 2\u001b[0m\n\u001b[0;32m      1\u001b[0m list1 \u001b[38;5;241m=\u001b[39m [\u001b[38;5;241m1\u001b[39m,\u001b[38;5;241m2\u001b[39m,\u001b[38;5;241m3\u001b[39m,\u001b[38;5;241m4\u001b[39m]\n\u001b[1;32m----> 2\u001b[0m \u001b[38;5;28mmin\u001b[39m(list1)\n",
      "\u001b[1;31mTypeError\u001b[0m: 'int' object is not callable"
     ]
    }
   ],
   "source": [
    "list1 = [1,2,3,4]\n",
    "min(list1)"
   ]
  },
  {
   "cell_type": "code",
   "execution_count": 37,
   "id": "e187d94b-f5df-4c89-8232-40490e6e8356",
   "metadata": {},
   "outputs": [
    {
     "data": {
      "text/plain": [
       "int"
      ]
     },
     "execution_count": 37,
     "metadata": {},
     "output_type": "execute_result"
    }
   ],
   "source": [
    "type(min)"
   ]
  },
  {
   "cell_type": "code",
   "execution_count": 39,
   "id": "ec301ac4-43a8-46dd-9a2b-faaca15ad228",
   "metadata": {},
   "outputs": [],
   "source": [
    "del min"
   ]
  },
  {
   "cell_type": "code",
   "execution_count": 41,
   "id": "2d3bef39-23ea-44a4-b71f-eefb4e48af1c",
   "metadata": {},
   "outputs": [
    {
     "data": {
      "text/plain": [
       "builtin_function_or_method"
      ]
     },
     "execution_count": 41,
     "metadata": {},
     "output_type": "execute_result"
    }
   ],
   "source": [
    "type(min)"
   ]
  },
  {
   "cell_type": "code",
   "execution_count": null,
   "id": "1542d2ef-c572-4681-8ec8-384df0110246",
   "metadata": {},
   "outputs": [],
   "source": [
    "name  # Valid\n",
    "Name #Valid\n",
    "1name # Invalid\n",
    "name123 ##Valid\n",
    "__name #Valid"
   ]
  },
  {
   "cell_type": "markdown",
   "id": "e9a7e913-2869-458c-bb32-e7e66d786b43",
   "metadata": {},
   "source": [
    "# Types of Varibles"
   ]
  },
  {
   "cell_type": "code",
   "execution_count": null,
   "id": "14964b8b-df95-497e-aab3-91cdcd17ea8a",
   "metadata": {},
   "outputs": [],
   "source": [
    "1. Local Variable\n",
    "2. Global Varibale\n",
    "\n",
    "global keyword >> Used to convert local variable to Global Veriale"
   ]
  },
  {
   "cell_type": "code",
   "execution_count": 44,
   "id": "1ea66cb4-9c28-4e71-afd5-a56f6a0552d1",
   "metadata": {},
   "outputs": [
    {
     "data": {
      "text/plain": [
       "20"
      ]
     },
     "execution_count": 44,
     "metadata": {},
     "output_type": "execute_result"
    }
   ],
   "source": [
    "a  = 20 # Global variable\n",
    "a"
   ]
  },
  {
   "cell_type": "code",
   "execution_count": 46,
   "id": "41e535b1-4445-4bf8-8e18-c64b78c37592",
   "metadata": {},
   "outputs": [],
   "source": [
    "def my_fun():\n",
    "    x1 = 20 # Local Variable\n",
    "    y1 = 30\n",
    "    print(f'x1 =={x1},y1 == {y1}')"
   ]
  },
  {
   "cell_type": "code",
   "execution_count": 11,
   "id": "33a49885-6815-4185-a803-8a20f9664914",
   "metadata": {},
   "outputs": [
    {
     "name": "stdout",
     "output_type": "stream",
     "text": [
      "x1 == 50 ,x2 ==10\n"
     ]
    }
   ],
   "source": [
    "def test_fun():\n",
    "    x1 = 50\n",
    "    x2 = 10\n",
    "    print(f'x1 == {x1} ,x2 =={x2}')\n",
    "test_fun()"
   ]
  },
  {
   "cell_type": "code",
   "execution_count": 48,
   "id": "3b18e6d5-bfdd-4d8f-bb66-e46f6dace79a",
   "metadata": {},
   "outputs": [
    {
     "name": "stdout",
     "output_type": "stream",
     "text": [
      "x1 ==20,y1 == 30\n"
     ]
    }
   ],
   "source": [
    "my_fun()"
   ]
  },
  {
   "cell_type": "code",
   "execution_count": 50,
   "id": "0cfbd7d5-dcd7-4ea5-8841-75647254f57b",
   "metadata": {},
   "outputs": [
    {
     "name": "stdout",
     "output_type": "stream",
     "text": [
      "x1 ==20,y1 == 30\n"
     ]
    }
   ],
   "source": [
    "my_fun()"
   ]
  },
  {
   "cell_type": "code",
   "execution_count": 52,
   "id": "f8d33921-a155-4040-8a0a-6335586593f2",
   "metadata": {},
   "outputs": [
    {
     "ename": "NameError",
     "evalue": "name 'x1' is not defined",
     "output_type": "error",
     "traceback": [
      "\u001b[1;31m---------------------------------------------------------------------------\u001b[0m",
      "\u001b[1;31mNameError\u001b[0m                                 Traceback (most recent call last)",
      "Cell \u001b[1;32mIn[52], line 1\u001b[0m\n\u001b[1;32m----> 1\u001b[0m x1\n",
      "\u001b[1;31mNameError\u001b[0m: name 'x1' is not defined"
     ]
    }
   ],
   "source": [
    "x1"
   ]
  },
  {
   "cell_type": "code",
   "execution_count": 54,
   "id": "fd5d93a8-25ac-486c-b6fd-96d0fe796734",
   "metadata": {},
   "outputs": [
    {
     "data": {
      "text/plain": [
       "20"
      ]
     },
     "execution_count": 54,
     "metadata": {},
     "output_type": "execute_result"
    }
   ],
   "source": [
    "a"
   ]
  },
  {
   "cell_type": "code",
   "execution_count": 60,
   "id": "929c563c-9287-45c8-8c77-d47c25281e99",
   "metadata": {},
   "outputs": [
    {
     "name": "stdout",
     "output_type": "stream",
     "text": [
      "City is: Pune\n"
     ]
    }
   ],
   "source": [
    "city = 'Pune' # Global Varibale\n",
    "print(\"City is:\",city)\n",
    "\n",
    "def my_fun():\n",
    "    x1 = 20 # Local Variable\n",
    "    y1 = 30\n",
    "    print(f'x1 =={x1},y1 == {y1}')\n",
    "    print(\"City is:\",city)\n",
    "\n"
   ]
  },
  {
   "cell_type": "code",
   "execution_count": 62,
   "id": "13a02f3f-4d72-48ef-a00c-5f6b788f6eea",
   "metadata": {},
   "outputs": [
    {
     "name": "stdout",
     "output_type": "stream",
     "text": [
      "x1 ==20,y1 == 30\n",
      "City is: Pune\n"
     ]
    }
   ],
   "source": [
    "my_fun()"
   ]
  },
  {
   "cell_type": "code",
   "execution_count": 64,
   "id": "f6a6bf6e-60a6-4082-b862-ffd685c15205",
   "metadata": {},
   "outputs": [],
   "source": [
    "def my_fun():\n",
    "    global x1  # We can access it outside the function\n",
    "    x1 = 20 # Local Variable\n",
    "    y1 = 30\n",
    "    print(f'x1 =={x1},y1 == {y1}')\n",
    "    print(\"City is:\",city)"
   ]
  },
  {
   "cell_type": "code",
   "execution_count": 68,
   "id": "4b66f4a2-3159-4a29-884f-fc642ec4fb62",
   "metadata": {},
   "outputs": [
    {
     "name": "stdout",
     "output_type": "stream",
     "text": [
      "x1 ==20,y1 == 30\n",
      "City is: Pune\n"
     ]
    }
   ],
   "source": [
    "my_fun()"
   ]
  },
  {
   "cell_type": "code",
   "execution_count": 70,
   "id": "c78059ab-9c6c-46ee-9b27-1c04f2c45927",
   "metadata": {},
   "outputs": [
    {
     "data": {
      "text/plain": [
       "20"
      ]
     },
     "execution_count": 70,
     "metadata": {},
     "output_type": "execute_result"
    }
   ],
   "source": [
    "x1"
   ]
  },
  {
   "cell_type": "code",
   "execution_count": null,
   "id": "9500e1fa-7f76-4512-ab5f-05f5f3c480b8",
   "metadata": {},
   "outputs": [],
   "source": []
  }
 ],
 "metadata": {
  "kernelspec": {
   "display_name": "Python 3 (ipykernel)",
   "language": "python",
   "name": "python3"
  },
  "language_info": {
   "codemirror_mode": {
    "name": "ipython",
    "version": 3
   },
   "file_extension": ".py",
   "mimetype": "text/x-python",
   "name": "python",
   "nbconvert_exporter": "python",
   "pygments_lexer": "ipython3",
   "version": "3.12.3"
  }
 },
 "nbformat": 4,
 "nbformat_minor": 5
}
