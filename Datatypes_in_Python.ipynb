{
  "nbformat": 4,
  "nbformat_minor": 0,
  "metadata": {
    "colab": {
      "provenance": [],
      "toc_visible": true
    },
    "kernelspec": {
      "name": "python3",
      "display_name": "Python 3"
    },
    "language_info": {
      "name": "python"
    }
  },
  "cells": [
    {
      "cell_type": "markdown",
      "source": [
        "# DataTypes"
      ],
      "metadata": {
        "id": "vnnbe0qQW_8E"
      }
    },
    {
      "cell_type": "code",
      "source": [
        "# Numeric Data Types"
      ],
      "metadata": {
        "id": "mdEe1u8OW-xI"
      },
      "execution_count": 55,
      "outputs": []
    },
    {
      "cell_type": "code",
      "source": [
        "# These data types are used to store numeric values.\n",
        "\n",
        "# int: Represents integers (whole numbers without a decimal point)."
      ],
      "metadata": {
        "id": "WoQ_h5RsW-0e"
      },
      "execution_count": 56,
      "outputs": []
    },
    {
      "cell_type": "code",
      "source": [
        "num = 10\n",
        "print(type(num))  # Output: <class 'int'>"
      ],
      "metadata": {
        "colab": {
          "base_uri": "https://localhost:8080/"
        },
        "id": "Mfke8SqPW9YL",
        "outputId": "268df482-abbc-499a-9c8d-16e716acb15c"
      },
      "execution_count": 57,
      "outputs": [
        {
          "output_type": "stream",
          "name": "stdout",
          "text": [
            "<class 'int'>\n"
          ]
        }
      ]
    },
    {
      "cell_type": "code",
      "source": [
        "# float: Represents floating-point numbers (numbers with a decimal point)."
      ],
      "metadata": {
        "id": "pfpJGFF8XYj_"
      },
      "execution_count": 58,
      "outputs": []
    },
    {
      "cell_type": "code",
      "source": [
        "num = 3.14\n",
        "print(type(num))  # Output: <class 'float'>"
      ],
      "metadata": {
        "colab": {
          "base_uri": "https://localhost:8080/"
        },
        "id": "KdP6vfSdXYms",
        "outputId": "0836a879-49a0-46d4-e400-408defca237e"
      },
      "execution_count": 59,
      "outputs": [
        {
          "output_type": "stream",
          "name": "stdout",
          "text": [
            "<class 'float'>\n"
          ]
        }
      ]
    },
    {
      "cell_type": "code",
      "source": [
        "# complex: Represents complex numbers with real and imaginary parts."
      ],
      "metadata": {
        "id": "Pv1ZzzLYXYo5"
      },
      "execution_count": 60,
      "outputs": []
    },
    {
      "cell_type": "code",
      "source": [
        "num = 2 + 3j\n",
        "print(type(num))  # Output: <class 'complex'>"
      ],
      "metadata": {
        "colab": {
          "base_uri": "https://localhost:8080/"
        },
        "id": "fvmrLnMBXYrr",
        "outputId": "4e55f291-88d6-4e07-8772-ee42c1304076"
      },
      "execution_count": 61,
      "outputs": [
        {
          "output_type": "stream",
          "name": "stdout",
          "text": [
            "<class 'complex'>\n"
          ]
        }
      ]
    },
    {
      "cell_type": "markdown",
      "source": [
        "# Sequence Data Types"
      ],
      "metadata": {
        "id": "1esHYnPXXley"
      }
    },
    {
      "cell_type": "code",
      "source": [
        "# str (String): A sequence of characters, enclosed in single, double, or triple quotes. Strings are immutable, meaning they cannot be changed after creation."
      ],
      "metadata": {
        "id": "eTBC-rkdXYuQ"
      },
      "execution_count": 63,
      "outputs": []
    },
    {
      "cell_type": "code",
      "source": [
        "text = \"Hello, World!\"\n",
        "print(type(text))  # Output: <class 'str'>"
      ],
      "metadata": {
        "colab": {
          "base_uri": "https://localhost:8080/"
        },
        "id": "oQSDC7sRXYxR",
        "outputId": "7526d58d-3895-4433-ad16-09be60271bab"
      },
      "execution_count": 64,
      "outputs": [
        {
          "output_type": "stream",
          "name": "stdout",
          "text": [
            "<class 'str'>\n"
          ]
        }
      ]
    },
    {
      "cell_type": "code",
      "source": [
        "# list: A mutable, ordered sequence of elements, which can be of different data types. Lists are enclosed in square brackets []."
      ],
      "metadata": {
        "id": "2auKu3i-XYzo"
      },
      "execution_count": 65,
      "outputs": []
    },
    {
      "cell_type": "code",
      "source": [
        "my_list = [1, 2, \"apple\", 3.5]\n",
        "print(type(my_list))  # Output: <class 'list'>"
      ],
      "metadata": {
        "colab": {
          "base_uri": "https://localhost:8080/"
        },
        "id": "DtXhzITPXY2W",
        "outputId": "711518e6-92f4-4d14-9383-a92f113a7a72"
      },
      "execution_count": 66,
      "outputs": [
        {
          "output_type": "stream",
          "name": "stdout",
          "text": [
            "<class 'list'>\n"
          ]
        }
      ]
    },
    {
      "cell_type": "code",
      "source": [
        "# tuple: An immutable, ordered sequence of elements, which can also be of different data types. Tuples are enclosed in parentheses ()."
      ],
      "metadata": {
        "id": "_e27M5gYXY4q"
      },
      "execution_count": 67,
      "outputs": []
    },
    {
      "cell_type": "code",
      "source": [
        "my_tuple = (1, 2, \"banana\", 4.5)\n",
        "print(type(my_tuple))  # Output: <class 'tuple'>"
      ],
      "metadata": {
        "colab": {
          "base_uri": "https://localhost:8080/"
        },
        "id": "drg3iKvDXY7O",
        "outputId": "e33bf215-844d-4a55-b9a9-739a288b20c8"
      },
      "execution_count": 68,
      "outputs": [
        {
          "output_type": "stream",
          "name": "stdout",
          "text": [
            "<class 'tuple'>\n"
          ]
        }
      ]
    },
    {
      "cell_type": "code",
      "source": [
        "# range: Represents an immutable sequence of numbers. Often used in loops."
      ],
      "metadata": {
        "id": "8ANtMsroX2x_"
      },
      "execution_count": 69,
      "outputs": []
    },
    {
      "cell_type": "code",
      "source": [
        "my_range = range(5)\n",
        "print(type(my_range))  # Output: <class 'range'>"
      ],
      "metadata": {
        "colab": {
          "base_uri": "https://localhost:8080/"
        },
        "id": "r5xhLoCQX20i",
        "outputId": "ae00c79c-70b0-4dea-8bc1-6e7432d2965e"
      },
      "execution_count": 70,
      "outputs": [
        {
          "output_type": "stream",
          "name": "stdout",
          "text": [
            "<class 'range'>\n"
          ]
        }
      ]
    },
    {
      "cell_type": "code",
      "source": [
        "# Mapping Data Type"
      ],
      "metadata": {
        "id": "cqwIcIMBX23F"
      },
      "execution_count": null,
      "outputs": []
    },
    {
      "cell_type": "code",
      "source": [
        "# These types are used to store data in key-value pairs.\n",
        "\n",
        "# dict (Dictionary): A mutable collection of key-value pairs. Keys must be unique, and the values can be of any data type."
      ],
      "metadata": {
        "id": "1ZPIAMOtX26E"
      },
      "execution_count": 72,
      "outputs": []
    },
    {
      "cell_type": "code",
      "source": [
        "my_dict = {\"name\": \"Alice\", \"age\": 25}\n",
        "print(type(my_dict))  # Output: <class 'dict'>"
      ],
      "metadata": {
        "colab": {
          "base_uri": "https://localhost:8080/"
        },
        "id": "g7rzOVovX28g",
        "outputId": "8b1f7f6c-9815-43c5-fc63-deea8950e5d0"
      },
      "execution_count": 73,
      "outputs": [
        {
          "output_type": "stream",
          "name": "stdout",
          "text": [
            "<class 'dict'>\n"
          ]
        }
      ]
    },
    {
      "cell_type": "code",
      "source": [
        "# Set Data Types\n",
        "# Sets are used to store unordered collections of unique items.\n",
        "\n",
        "# set: A mutable, unordered collection of unique items, enclosed in curly braces {}."
      ],
      "metadata": {
        "id": "2QiO5dnMYWz3"
      },
      "execution_count": 74,
      "outputs": []
    },
    {
      "cell_type": "code",
      "source": [
        "my_set = {1, 2, 3, 3, 4}\n",
        "print(type(my_set))  # Output: <class 'set'>\n",
        "# Output: {1, 2, 3, 4} (duplicates are automatically removed)"
      ],
      "metadata": {
        "colab": {
          "base_uri": "https://localhost:8080/"
        },
        "id": "F6aqpBcyYW5n",
        "outputId": "db087ee9-990c-4a03-af9e-d0e43cf31632"
      },
      "execution_count": 75,
      "outputs": [
        {
          "output_type": "stream",
          "name": "stdout",
          "text": [
            "<class 'set'>\n"
          ]
        }
      ]
    },
    {
      "cell_type": "code",
      "source": [
        "# frozenset: An immutable version of a set."
      ],
      "metadata": {
        "id": "F2WMiTblYhvh"
      },
      "execution_count": 76,
      "outputs": []
    },
    {
      "cell_type": "code",
      "source": [
        "my_frozenset = frozenset([1, 2, 3])\n",
        "print(type(my_frozenset))  # Output: <class 'frozenset'>"
      ],
      "metadata": {
        "colab": {
          "base_uri": "https://localhost:8080/"
        },
        "id": "xkSe9eXpYh3p",
        "outputId": "27d44ebf-700b-45e1-b2c4-55c630aeb5e1"
      },
      "execution_count": 77,
      "outputs": [
        {
          "output_type": "stream",
          "name": "stdout",
          "text": [
            "<class 'frozenset'>\n"
          ]
        }
      ]
    },
    {
      "cell_type": "code",
      "source": [
        "# Boolean Data Type\n",
        "# The Boolean type represents two values: True and False."
      ],
      "metadata": {
        "id": "d-iY3z4RYh6D"
      },
      "execution_count": 78,
      "outputs": []
    },
    {
      "cell_type": "code",
      "source": [
        "is_valid = True\n",
        "print(type(is_valid))  # Output: <class 'bool'>"
      ],
      "metadata": {
        "colab": {
          "base_uri": "https://localhost:8080/"
        },
        "id": "40B-wQiVYh8k",
        "outputId": "0eb3968f-a78f-42ac-bdfd-b2507354ad8b"
      },
      "execution_count": 79,
      "outputs": [
        {
          "output_type": "stream",
          "name": "stdout",
          "text": [
            "<class 'bool'>\n"
          ]
        }
      ]
    },
    {
      "cell_type": "code",
      "source": [
        "# Binary Data Types\n",
        "# These data types are used to work with binary data.\n",
        "\n"
      ],
      "metadata": {
        "id": "-owMuVYNYW8q"
      },
      "execution_count": 80,
      "outputs": []
    },
    {
      "cell_type": "code",
      "source": [
        "# bytes: Immutable sequence of bytes.\n",
        "\n"
      ],
      "metadata": {
        "id": "Yw9uc-5rY2ek"
      },
      "execution_count": 81,
      "outputs": []
    },
    {
      "cell_type": "code",
      "source": [
        "my_bytes = b\"Hello\"\n",
        "print(type(my_bytes))  # Output: <class 'bytes'>"
      ],
      "metadata": {
        "colab": {
          "base_uri": "https://localhost:8080/"
        },
        "id": "1_yUN8PheYic",
        "outputId": "00fe64db-13d2-422c-9489-bd6a2841c760"
      },
      "execution_count": 82,
      "outputs": [
        {
          "output_type": "stream",
          "name": "stdout",
          "text": [
            "<class 'bytes'>\n"
          ]
        }
      ]
    },
    {
      "cell_type": "code",
      "source": [
        "ny_bytes = b\"HI,GUYS\"\n",
        "print(type(ny_bytes))"
      ],
      "metadata": {
        "colab": {
          "base_uri": "https://localhost:8080/"
        },
        "id": "JwDS186qfJ80",
        "outputId": "7e1575ff-7025-4238-fe5f-6cbfa18baefb"
      },
      "execution_count": 85,
      "outputs": [
        {
          "output_type": "stream",
          "name": "stdout",
          "text": [
            "<class 'bytes'>\n"
          ]
        }
      ]
    },
    {
      "cell_type": "code",
      "source": [
        "# bytearray: Mutable sequence of bytes."
      ],
      "metadata": {
        "id": "PYaAhhwWeYl2"
      },
      "execution_count": 83,
      "outputs": []
    },
    {
      "cell_type": "code",
      "source": [
        "my_bytearray = bytearray(5)\n",
        "print(type(my_bytearray))  # Output: <class 'bytearray'>"
      ],
      "metadata": {
        "colab": {
          "base_uri": "https://localhost:8080/"
        },
        "id": "fz1L0HTxeeS_",
        "outputId": "246bccdc-3698-4cab-9620-9dde2ef661d4"
      },
      "execution_count": 84,
      "outputs": [
        {
          "output_type": "stream",
          "name": "stdout",
          "text": [
            "<class 'bytearray'>\n"
          ]
        }
      ]
    },
    {
      "cell_type": "code",
      "source": [
        "# memoryview: Allows the manipulation of memory directly without copying."
      ],
      "metadata": {
        "id": "6ElPDWE9eeV_"
      },
      "execution_count": 86,
      "outputs": []
    },
    {
      "cell_type": "code",
      "source": [
        "my_memoryview = memoryview(b\"Hello\")\n",
        "print(type(my_memoryview))  # Output: <class 'memoryview'>"
      ],
      "metadata": {
        "colab": {
          "base_uri": "https://localhost:8080/"
        },
        "id": "yk1g4RwLeeZQ",
        "outputId": "d35e71a1-4bce-4391-ed07-f8cf554b9f52"
      },
      "execution_count": 87,
      "outputs": [
        {
          "output_type": "stream",
          "name": "stdout",
          "text": [
            "<class 'memoryview'>\n"
          ]
        }
      ]
    },
    {
      "cell_type": "code",
      "source": [
        "print(my_memoryview)"
      ],
      "metadata": {
        "colab": {
          "base_uri": "https://localhost:8080/"
        },
        "id": "TJNv7b-VeecP",
        "outputId": "0f1b4e33-e077-46b3-837c-08efbafc81fe"
      },
      "execution_count": 88,
      "outputs": [
        {
          "output_type": "stream",
          "name": "stdout",
          "text": [
            "<memory at 0x7ed75b8d6200>\n"
          ]
        }
      ]
    },
    {
      "cell_type": "code",
      "source": [
        "# None Type\n",
        "# Represents the absence of a value."
      ],
      "metadata": {
        "id": "nupqgI7zfpUy"
      },
      "execution_count": 89,
      "outputs": []
    },
    {
      "cell_type": "code",
      "source": [
        "# NoneType: A special data type with only one value, None, which represents the absence of a value or a null value."
      ],
      "metadata": {
        "id": "1GQzzR3_fpYX"
      },
      "execution_count": 90,
      "outputs": []
    },
    {
      "cell_type": "code",
      "source": [
        "my_var = None\n",
        "print(type(my_var))  # Output: <class 'NoneType'>"
      ],
      "metadata": {
        "colab": {
          "base_uri": "https://localhost:8080/"
        },
        "id": "OcqKcixYfp6q",
        "outputId": "2129c776-a879-40a0-fe9c-e303701b630b"
      },
      "execution_count": 91,
      "outputs": [
        {
          "output_type": "stream",
          "name": "stdout",
          "text": [
            "<class 'NoneType'>\n"
          ]
        }
      ]
    },
    {
      "cell_type": "code",
      "source": [
        "# Summary of Data Types in Python:\n",
        "# Numeric: int, float, complex\n",
        "# Sequence: str, list, tuple, range\n",
        "# Mapping: dict\n",
        "# Set: set, frozenset\n",
        "# Boolean: bool\n",
        "# Binary: bytes, bytearray, memoryview\n",
        "# NoneType: None"
      ],
      "metadata": {
        "id": "RX-fx3Emfp96"
      },
      "execution_count": 92,
      "outputs": []
    },
    {
      "cell_type": "code",
      "source": [],
      "metadata": {
        "id": "38fsf96BfyF8"
      },
      "execution_count": null,
      "outputs": []
    },
    {
      "cell_type": "code",
      "source": [
        "# type casting"
      ],
      "metadata": {
        "id": "ijs6xNKyJ9Ez"
      },
      "execution_count": 3,
      "outputs": []
    },
    {
      "cell_type": "code",
      "source": [
        "# 1. What is type casting in Python?\n",
        "# Answer: Type casting is the process of converting one data type into another. In Python, type casting can be done either implicitly (automatically by Python) or explicitly (manually by the programmer)"
      ],
      "metadata": {
        "id": "Ql99vjQzLDqb"
      },
      "execution_count": 14,
      "outputs": []
    },
    {
      "cell_type": "code",
      "source": [
        "# 2. What is implicit type casting in Python?\n",
        "# Answer: Implicit type casting occurs when Python automatically converts one data type into another without the user’s intervention. For example, Python converts an integer to a float if necessary during arithmetic operations."
      ],
      "metadata": {
        "id": "3bmo3w_ALODA"
      },
      "execution_count": 15,
      "outputs": []
    },
    {
      "cell_type": "code",
      "source": [
        "num_in = 10\n",
        "num_float = 20.10\n",
        "result = num_in + num_float\n",
        "result"
      ],
      "metadata": {
        "colab": {
          "base_uri": "https://localhost:8080/"
        },
        "id": "60tF76PDLgQ1",
        "outputId": "155249c3-69f8-4e20-a708-7176c0f38ed6"
      },
      "execution_count": 16,
      "outputs": [
        {
          "output_type": "execute_result",
          "data": {
            "text/plain": [
              "30.1"
            ]
          },
          "metadata": {},
          "execution_count": 16
        }
      ]
    },
    {
      "cell_type": "code",
      "source": [
        "# What is explicit type casting in Python?\n",
        "# Answer: Explicit type casting is when you manually convert one data type into another using functions like int(), float(), str(), etc.\n",
        "\n"
      ],
      "metadata": {
        "id": "mhKaRWH-LW5Q"
      },
      "execution_count": null,
      "outputs": []
    },
    {
      "cell_type": "code",
      "source": [
        "a = 36\n",
        "b = float(a)\n",
        "b"
      ],
      "metadata": {
        "colab": {
          "base_uri": "https://localhost:8080/"
        },
        "id": "TULwpVg9Lkbn",
        "outputId": "03a1034c-d901-4bdc-95a6-64251c39e96a"
      },
      "execution_count": 17,
      "outputs": [
        {
          "output_type": "execute_result",
          "data": {
            "text/plain": [
              "36.0"
            ]
          },
          "metadata": {},
          "execution_count": 17
        }
      ]
    },
    {
      "cell_type": "code",
      "source": [
        "# 4. How do you convert a float to an integer in Python?\n",
        "# Answer: You can convert a float to an integer using the int() function. Note that this will remove the decimal part (truncate), not round the number."
      ],
      "metadata": {
        "id": "3IeNRHEyL3cJ"
      },
      "execution_count": 19,
      "outputs": []
    },
    {
      "cell_type": "code",
      "source": [
        "c = int(b)\n",
        "c"
      ],
      "metadata": {
        "colab": {
          "base_uri": "https://localhost:8080/"
        },
        "id": "WKKu-9X5J9pX",
        "outputId": "549c4210-c950-49f3-f83a-3eb5e0373fda"
      },
      "execution_count": 18,
      "outputs": [
        {
          "output_type": "execute_result",
          "data": {
            "text/plain": [
              "36"
            ]
          },
          "metadata": {},
          "execution_count": 18
        }
      ]
    },
    {
      "cell_type": "code",
      "source": [
        "# 5. What happens when you cast a string containing non-numeric characters to an integer?\n",
        "# If you try to cast a string containing non-numeric characters to an integer using int(), Python will raise a ValueError.\n"
      ],
      "metadata": {
        "id": "GffQMJCKMWHe"
      },
      "execution_count": null,
      "outputs": []
    },
    {
      "cell_type": "code",
      "source": [
        "num_float = \"abc\"\n",
        "num_float = int(num_float)\n",
        "type(num_float)"
      ],
      "metadata": {
        "colab": {
          "base_uri": "https://localhost:8080/",
          "height": 176
        },
        "id": "K4gRcqEUMs4W",
        "outputId": "3a1cd555-7536-4c86-92da-e377f9ea5df7"
      },
      "execution_count": 20,
      "outputs": [
        {
          "output_type": "error",
          "ename": "ValueError",
          "evalue": "invalid literal for int() with base 10: 'abc'",
          "traceback": [
            "\u001b[0;31m---------------------------------------------------------------------------\u001b[0m",
            "\u001b[0;31mValueError\u001b[0m                                Traceback (most recent call last)",
            "\u001b[0;32m<ipython-input-20-f33f25d78c44>\u001b[0m in \u001b[0;36m<cell line: 2>\u001b[0;34m()\u001b[0m\n\u001b[1;32m      1\u001b[0m \u001b[0mnum_float\u001b[0m \u001b[0;34m=\u001b[0m \u001b[0;34m\"abc\"\u001b[0m\u001b[0;34m\u001b[0m\u001b[0;34m\u001b[0m\u001b[0m\n\u001b[0;32m----> 2\u001b[0;31m \u001b[0mnum_float\u001b[0m \u001b[0;34m=\u001b[0m \u001b[0mint\u001b[0m\u001b[0;34m(\u001b[0m\u001b[0mnum_float\u001b[0m\u001b[0;34m)\u001b[0m\u001b[0;34m\u001b[0m\u001b[0;34m\u001b[0m\u001b[0m\n\u001b[0m\u001b[1;32m      3\u001b[0m \u001b[0mtype\u001b[0m\u001b[0;34m(\u001b[0m\u001b[0mnum_float\u001b[0m\u001b[0;34m)\u001b[0m\u001b[0;34m\u001b[0m\u001b[0;34m\u001b[0m\u001b[0m\n",
            "\u001b[0;31mValueError\u001b[0m: invalid literal for int() with base 10: 'abc'"
          ]
        }
      ]
    },
    {
      "cell_type": "code",
      "source": [
        "# How do you convert an integer to a string in Python?\n",
        "# You can convert an integer to a string using the str() function."
      ],
      "metadata": {
        "id": "8qTLmidCMs7T"
      },
      "execution_count": 21,
      "outputs": []
    },
    {
      "cell_type": "code",
      "source": [
        "int_in = 10\n",
        "str_out = str(int_in)\n",
        "type(str_out)"
      ],
      "metadata": {
        "colab": {
          "base_uri": "https://localhost:8080/"
        },
        "id": "FXx2-l9nKZ88",
        "outputId": "d316575b-6048-40d5-df46-f6fe0aea9256"
      },
      "execution_count": 22,
      "outputs": [
        {
          "output_type": "execute_result",
          "data": {
            "text/plain": [
              "str"
            ]
          },
          "metadata": {},
          "execution_count": 22
        }
      ]
    },
    {
      "cell_type": "code",
      "source": [
        "#  How do you convert a list to a tuple in Python?\n",
        "#  You can convert a list to a tuple using the tuple() function."
      ],
      "metadata": {
        "id": "2ucjKUnsKaA4"
      },
      "execution_count": 23,
      "outputs": []
    },
    {
      "cell_type": "code",
      "source": [
        "my_list = [1, 2, 3]\n",
        "tuple_out = tuple(my_list)\n",
        "type(tuple_out)"
      ],
      "metadata": {
        "colab": {
          "base_uri": "https://localhost:8080/"
        },
        "id": "wi1YOJvQKaIX",
        "outputId": "62c18205-c9e4-4457-9a96-2e0f29919ce4"
      },
      "execution_count": 24,
      "outputs": [
        {
          "output_type": "execute_result",
          "data": {
            "text/plain": [
              "tuple"
            ]
          },
          "metadata": {},
          "execution_count": 24
        }
      ]
    },
    {
      "cell_type": "code",
      "source": [
        "# value store inside the variable called varible"
      ],
      "metadata": {
        "id": "OK6YL62eN4-_"
      },
      "execution_count": 27,
      "outputs": []
    },
    {
      "cell_type": "code",
      "source": [
        "# How do you convert a tuple to a list in Python?\n",
        "# Answer: You can convert a tuple to a list using the list() function."
      ],
      "metadata": {
        "id": "dmuSvUI0KaKZ"
      },
      "execution_count": 25,
      "outputs": []
    },
    {
      "cell_type": "code",
      "source": [
        "tuple_in = (10,20,30)\n",
        "list_out = list(tuple_in)\n",
        "type(list_out)"
      ],
      "metadata": {
        "colab": {
          "base_uri": "https://localhost:8080/"
        },
        "id": "qw_2kCMqKaOa",
        "outputId": "cafcf2bd-c386-43c6-b3ea-57da94f6075a"
      },
      "execution_count": 29,
      "outputs": [
        {
          "output_type": "execute_result",
          "data": {
            "text/plain": [
              "list"
            ]
          },
          "metadata": {},
          "execution_count": 29
        }
      ]
    },
    {
      "cell_type": "code",
      "source": [
        "# How do you cast a boolean to an integer in Python?\n",
        "# You can convert a boolean to an integer using the int() function. True is cast to 1, and False is cast to 0."
      ],
      "metadata": {
        "id": "lVSPqOKtOCXO"
      },
      "execution_count": 30,
      "outputs": []
    },
    {
      "cell_type": "code",
      "source": [
        "# print(int(True))\n",
        "print(int(True))"
      ],
      "metadata": {
        "colab": {
          "base_uri": "https://localhost:8080/"
        },
        "id": "9unMUtJOOJqF",
        "outputId": "6c5e55ec-f249-446e-bbdb-6b7cec63a0b5"
      },
      "execution_count": 31,
      "outputs": [
        {
          "output_type": "stream",
          "name": "stdout",
          "text": [
            "1\n"
          ]
        }
      ]
    },
    {
      "cell_type": "code",
      "source": [
        "print(int(False))"
      ],
      "metadata": {
        "colab": {
          "base_uri": "https://localhost:8080/"
        },
        "id": "MHOZSd3rOQzV",
        "outputId": "21a3b700-3d03-440a-bf8c-6c991b7ac6f4"
      },
      "execution_count": 32,
      "outputs": [
        {
          "output_type": "stream",
          "name": "stdout",
          "text": [
            "0\n"
          ]
        }
      ]
    },
    {
      "cell_type": "code",
      "source": [
        "# How do you convert a string containing a float to a float type?\n",
        "# You can convert a string containing a floating-point number to a float type using the float() function."
      ],
      "metadata": {
        "id": "CPuYaoHKOTuj"
      },
      "execution_count": 34,
      "outputs": []
    },
    {
      "cell_type": "code",
      "source": [
        "str_float_in = \"10.2\"\n",
        "float_out = float(str_float_in)\n",
        "type(float_out)"
      ],
      "metadata": {
        "colab": {
          "base_uri": "https://localhost:8080/"
        },
        "id": "VhQufnMqOZM6",
        "outputId": "19fe86f8-0a15-408b-8cc8-240a2ec98c68"
      },
      "execution_count": 35,
      "outputs": [
        {
          "output_type": "execute_result",
          "data": {
            "text/plain": [
              "float"
            ]
          },
          "metadata": {},
          "execution_count": 35
        }
      ]
    },
    {
      "cell_type": "code",
      "source": [
        "num_str = \"3.14\"\n",
        "num_float = float(num_str)\n",
        "print(num_float)  # Output: 3.14\n",
        "type(num_float)"
      ],
      "metadata": {
        "colab": {
          "base_uri": "https://localhost:8080/"
        },
        "id": "EnoQEkvPO0Jf",
        "outputId": "b2459823-4df3-4363-ec2c-430e7a612574"
      },
      "execution_count": 37,
      "outputs": [
        {
          "output_type": "stream",
          "name": "stdout",
          "text": [
            "3.14\n"
          ]
        },
        {
          "output_type": "execute_result",
          "data": {
            "text/plain": [
              "float"
            ]
          },
          "metadata": {},
          "execution_count": 37
        }
      ]
    },
    {
      "cell_type": "code",
      "source": [
        "# Can you convert a list directly to a dictionary in Python?\n",
        "# No, you cannot directly convert a list to a dictionary. However, you can convert a list of tuples (key-value pairs) into a dictionary using the dict() function."
      ],
      "metadata": {
        "id": "zLjSiV6RO7h9"
      },
      "execution_count": 38,
      "outputs": []
    },
    {
      "cell_type": "code",
      "source": [
        "list_in = [1,2,3,4,5,6]\n",
        "dict_out = dict(list_in)\n",
        "print(dict_out)\n",
        "print(type(dict_out))\n"
      ],
      "metadata": {
        "colab": {
          "base_uri": "https://localhost:8080/",
          "height": 193
        },
        "id": "j-AiDOc8P313",
        "outputId": "23b586aa-ded8-4166-f171-4c79987afb7f"
      },
      "execution_count": 40,
      "outputs": [
        {
          "output_type": "error",
          "ename": "TypeError",
          "evalue": "cannot convert dictionary update sequence element #0 to a sequence",
          "traceback": [
            "\u001b[0;31m---------------------------------------------------------------------------\u001b[0m",
            "\u001b[0;31mTypeError\u001b[0m                                 Traceback (most recent call last)",
            "\u001b[0;32m<ipython-input-40-c07178a2d292>\u001b[0m in \u001b[0;36m<cell line: 2>\u001b[0;34m()\u001b[0m\n\u001b[1;32m      1\u001b[0m \u001b[0mlist_in\u001b[0m \u001b[0;34m=\u001b[0m \u001b[0;34m[\u001b[0m\u001b[0;36m1\u001b[0m\u001b[0;34m,\u001b[0m\u001b[0;36m2\u001b[0m\u001b[0;34m,\u001b[0m\u001b[0;36m3\u001b[0m\u001b[0;34m,\u001b[0m\u001b[0;36m4\u001b[0m\u001b[0;34m,\u001b[0m\u001b[0;36m5\u001b[0m\u001b[0;34m,\u001b[0m\u001b[0;36m6\u001b[0m\u001b[0;34m]\u001b[0m\u001b[0;34m\u001b[0m\u001b[0;34m\u001b[0m\u001b[0m\n\u001b[0;32m----> 2\u001b[0;31m \u001b[0mdict_out\u001b[0m \u001b[0;34m=\u001b[0m \u001b[0mdict\u001b[0m\u001b[0;34m(\u001b[0m\u001b[0mlist_in\u001b[0m\u001b[0;34m)\u001b[0m\u001b[0;34m\u001b[0m\u001b[0;34m\u001b[0m\u001b[0m\n\u001b[0m\u001b[1;32m      3\u001b[0m \u001b[0mprint\u001b[0m\u001b[0;34m(\u001b[0m\u001b[0mdict_out\u001b[0m\u001b[0;34m)\u001b[0m\u001b[0;34m\u001b[0m\u001b[0;34m\u001b[0m\u001b[0m\n\u001b[1;32m      4\u001b[0m \u001b[0mprint\u001b[0m\u001b[0;34m(\u001b[0m\u001b[0mtype\u001b[0m\u001b[0;34m(\u001b[0m\u001b[0mdict_out\u001b[0m\u001b[0;34m)\u001b[0m\u001b[0;34m)\u001b[0m\u001b[0;34m\u001b[0m\u001b[0;34m\u001b[0m\u001b[0m\n",
            "\u001b[0;31mTypeError\u001b[0m: cannot convert dictionary update sequence element #0 to a sequence"
          ]
        }
      ]
    },
    {
      "cell_type": "code",
      "source": [
        "list_in  = {\"ajeet\":1,\"Suraj\":2}\n",
        "dict_out = list(list_in)\n",
        "print(type(dict_out))\n",
        "print(dict_out)"
      ],
      "metadata": {
        "colab": {
          "base_uri": "https://localhost:8080/"
        },
        "id": "aXzf4MzGPE14",
        "outputId": "efeb776c-2496-43a0-adef-83cdabadd47a"
      },
      "execution_count": 39,
      "outputs": [
        {
          "output_type": "stream",
          "name": "stdout",
          "text": [
            "<class 'list'>\n",
            "['ajeet', 'Suraj']\n"
          ]
        }
      ]
    },
    {
      "cell_type": "code",
      "source": [
        "# How do you convert a set to a list in Python?\n",
        "# You can convert a set to a list using the list() function."
      ],
      "metadata": {
        "id": "k8glnacmPv_E"
      },
      "execution_count": null,
      "outputs": []
    },
    {
      "cell_type": "code",
      "source": [
        "set_in = {1,2,3,4}\n",
        "type(set_in)"
      ],
      "metadata": {
        "colab": {
          "base_uri": "https://localhost:8080/"
        },
        "id": "qxw5VyhlQ5Ds",
        "outputId": "cae66fbd-d22f-4300-910e-380bacb2cfe8"
      },
      "execution_count": 41,
      "outputs": [
        {
          "output_type": "execute_result",
          "data": {
            "text/plain": [
              "set"
            ]
          },
          "metadata": {},
          "execution_count": 41
        }
      ]
    },
    {
      "cell_type": "code",
      "source": [
        "list_out = list(set_in)\n",
        "print(list_out)\n",
        "print(type(list_out))"
      ],
      "metadata": {
        "colab": {
          "base_uri": "https://localhost:8080/"
        },
        "id": "OvimVip8Q5Me",
        "outputId": "f91671cc-57d9-4c6c-943f-30fe995764f1"
      },
      "execution_count": 42,
      "outputs": [
        {
          "output_type": "stream",
          "name": "stdout",
          "text": [
            "[1, 2, 3, 4]\n",
            "<class 'list'>\n"
          ]
        }
      ]
    },
    {
      "cell_type": "code",
      "source": [
        "# How do you convert a list of strings to a list of integers in Python?\n",
        "# You can use list comprehension to convert a list of strings to a list of integers."
      ],
      "metadata": {
        "id": "l1pUKfvGQ5QL"
      },
      "execution_count": null,
      "outputs": []
    },
    {
      "cell_type": "code",
      "source": [
        "str_list = ['1', '2', '3']\n",
        "str_int = [int(i) for i in str_list]\n",
        "print(str_int)\n",
        "print(type(str_int))\n"
      ],
      "metadata": {
        "colab": {
          "base_uri": "https://localhost:8080/"
        },
        "id": "fRhC7dlzQ5S4",
        "outputId": "c3a6b67b-9d35-41f2-de82-5565fe0abfd1"
      },
      "execution_count": 43,
      "outputs": [
        {
          "output_type": "stream",
          "name": "stdout",
          "text": [
            "[1, 2, 3]\n",
            "<class 'list'>\n"
          ]
        }
      ]
    },
    {
      "cell_type": "code",
      "source": [
        "# What is the result of casting a float to a boolean in Python?\n",
        "# When casting a float to a boolean using the bool() function, any non-zero value becomes True, while 0.0 becomes False."
      ],
      "metadata": {
        "id": "92hl7xcUQ5ZS"
      },
      "execution_count": 44,
      "outputs": []
    },
    {
      "cell_type": "code",
      "source": [
        "float_in = 10.20\n",
        "bool_out = bool(float_in)\n",
        "print(bool_out)\n",
        "print(type(bool_out))\n"
      ],
      "metadata": {
        "colab": {
          "base_uri": "https://localhost:8080/"
        },
        "id": "sh9rOgePQ5cO",
        "outputId": "3d53377c-2325-480d-90db-abf4180f08a8"
      },
      "execution_count": 45,
      "outputs": [
        {
          "output_type": "stream",
          "name": "stdout",
          "text": [
            "True\n",
            "<class 'bool'>\n"
          ]
        }
      ]
    },
    {
      "cell_type": "code",
      "source": [
        "print(bool(0))\n",
        "print(bool(3.14))"
      ],
      "metadata": {
        "colab": {
          "base_uri": "https://localhost:8080/"
        },
        "id": "F9PQH5L_Q5e0",
        "outputId": "050ceed0-44ac-4cde-cd95-089b71bc3796"
      },
      "execution_count": 46,
      "outputs": [
        {
          "output_type": "stream",
          "name": "stdout",
          "text": [
            "False\n",
            "True\n"
          ]
        }
      ]
    },
    {
      "cell_type": "code",
      "source": [
        "# String"
      ],
      "metadata": {
        "id": "Wcujc0QKVIqV"
      },
      "execution_count": 48,
      "outputs": []
    },
    {
      "cell_type": "markdown",
      "source": [
        "# String"
      ],
      "metadata": {
        "id": "JhZNGfdlVNJA"
      }
    },
    {
      "cell_type": "code",
      "source": [
        "# What is the result of casting a float to a boolean in Python?\n",
        "# When casting a float to a boolean using the bool() function, any non-zero value becomes True, while 0.0 becomes False."
      ],
      "metadata": {
        "id": "frHC3bE_Q5g8"
      },
      "execution_count": 47,
      "outputs": []
    },
    {
      "cell_type": "code",
      "source": [],
      "metadata": {
        "id": "F44UO8w8W5pb"
      },
      "execution_count": null,
      "outputs": []
    },
    {
      "cell_type": "code",
      "source": [
        "str1 = 'Hello,World!'# Using single quotes\n",
        "str1"
      ],
      "metadata": {
        "colab": {
          "base_uri": "https://localhost:8080/",
          "height": 36
        },
        "id": "NV56sp6zQ5ix",
        "outputId": "f7e99e7b-25c0-48ff-f2c9-d2e4d593ced0"
      },
      "execution_count": 49,
      "outputs": [
        {
          "output_type": "execute_result",
          "data": {
            "text/plain": [
              "'Hello,World!'"
            ],
            "application/vnd.google.colaboratory.intrinsic+json": {
              "type": "string"
            }
          },
          "metadata": {},
          "execution_count": 49
        }
      ]
    },
    {
      "cell_type": "code",
      "source": [
        "# Using double quotes\n",
        "str2 = \"Python is great!\"\n",
        "str2 = \"Python is great!\""
      ],
      "metadata": {
        "id": "c3wQMS66Q5kt"
      },
      "execution_count": 51,
      "outputs": []
    },
    {
      "cell_type": "code",
      "source": [
        "# Using triple quotes for multi-line strings\n",
        "str3 = \"\"\"This is multiline\n",
        "          comment\"\"\"\n",
        "str3"
      ],
      "metadata": {
        "colab": {
          "base_uri": "https://localhost:8080/",
          "height": 36
        },
        "id": "J8ZNlVI7Q5ml",
        "outputId": "829f9681-f013-4c5d-a8f4-ce5b44e45964"
      },
      "execution_count": 52,
      "outputs": [
        {
          "output_type": "execute_result",
          "data": {
            "text/plain": [
              "'This is multiline\\n          comment'"
            ],
            "application/vnd.google.colaboratory.intrinsic+json": {
              "type": "string"
            }
          },
          "metadata": {},
          "execution_count": 52
        }
      ]
    },
    {
      "cell_type": "code",
      "source": [
        "str3 = '''This is a\n",
        "multi-line string.'''\n",
        "str3"
      ],
      "metadata": {
        "colab": {
          "base_uri": "https://localhost:8080/",
          "height": 36
        },
        "id": "UchpwDvmQ5op",
        "outputId": "c066be47-7f69-4c98-98a0-3b6074bbde10"
      },
      "execution_count": 54,
      "outputs": [
        {
          "output_type": "execute_result",
          "data": {
            "text/plain": [
              "'This is a \\nmulti-line string.'"
            ],
            "application/vnd.google.colaboratory.intrinsic+json": {
              "type": "string"
            }
          },
          "metadata": {},
          "execution_count": 54
        }
      ]
    },
    {
      "cell_type": "code",
      "source": [],
      "metadata": {
        "id": "FbtHKExiQ5qd"
      },
      "execution_count": null,
      "outputs": []
    },
    {
      "cell_type": "markdown",
      "source": [
        "# len"
      ],
      "metadata": {
        "id": "lA9-CZqeeJXC"
      }
    },
    {
      "cell_type": "code",
      "source": [],
      "metadata": {
        "id": "rXLy8gsnQ5tM"
      },
      "execution_count": null,
      "outputs": []
    },
    {
      "cell_type": "code",
      "source": [],
      "metadata": {
        "id": "_mBSVXEAQ5wO"
      },
      "execution_count": null,
      "outputs": []
    },
    {
      "cell_type": "code",
      "source": [],
      "metadata": {
        "id": "YEEz8Yu1Q5yj"
      },
      "execution_count": null,
      "outputs": []
    }
  ]
}