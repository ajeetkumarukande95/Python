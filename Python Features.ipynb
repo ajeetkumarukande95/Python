{
 "cells": [
  {
   "cell_type": "markdown",
   "id": "9ca249c6-8aca-40b6-a28d-5b43fc34c342",
   "metadata": {},
   "source": [
    "# Python Features"
   ]
  },
  {
   "cell_type": "code",
   "execution_count": null,
   "id": "c95db46e-9733-414b-904d-732f860e5a6d",
   "metadata": {},
   "outputs": [],
   "source": [
    "1.Pyhton is dynamically typed language\n",
    "2.simple and easy to learn\n",
    "3.Robust standard library support\n",
    "\n",
    "        import pandas\n",
    "        import os\n",
    "        import numpy\n",
    "        import sklearn\n",
    "        import tensorflow\n",
    "        import openai\n",
    "\n",
    "4.free and open source\n",
    "5.Portable:\n",
    "    operating System\n",
    "6.Support for Graphical user interface\n",
    "    streamlit\n",
    "    tinker\n",
    "7.Python is object oriented and procedure oriented language\n",
    "    object oriented >> class and object >> inheritance, encapsulation, polymorphisam, abstraction\n",
    "    Procedure oriented >> functions"
   ]
  },
  {
   "cell_type": "code",
   "execution_count": null,
   "id": "3994d4fc-6d75-4f7c-91b8-a8f82081aef6",
   "metadata": {},
   "outputs": [],
   "source": []
  },
  {
   "cell_type": "code",
   "execution_count": 2,
   "id": "eee8fd22-f66a-47cd-a4c8-24cbb3c9cc1a",
   "metadata": {},
   "outputs": [
    {
     "data": {
      "text/plain": [
       "int"
      ]
     },
     "execution_count": 2,
     "metadata": {},
     "output_type": "execute_result"
    }
   ],
   "source": [
    "a = 10\n",
    "type(a)"
   ]
  },
  {
   "cell_type": "code",
   "execution_count": null,
   "id": "ed39374f-7826-4c12-b796-abf4c9ba998d",
   "metadata": {},
   "outputs": [],
   "source": []
  }
 ],
 "metadata": {
  "kernelspec": {
   "display_name": "Python 3 (ipykernel)",
   "language": "python",
   "name": "python3"
  },
  "language_info": {
   "codemirror_mode": {
    "name": "ipython",
    "version": 3
   },
   "file_extension": ".py",
   "mimetype": "text/x-python",
   "name": "python",
   "nbconvert_exporter": "python",
   "pygments_lexer": "ipython3",
   "version": "3.12.4"
  }
 },
 "nbformat": 4,
 "nbformat_minor": 5
}
