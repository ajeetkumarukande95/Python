{
 "cells": [
  {
   "cell_type": "code",
   "execution_count": null,
   "id": "05b93ba4-205e-48f9-8ef3-7ab0368c96cd",
   "metadata": {},
   "outputs": [],
   "source": [
    "print is built in function in python.\n",
    "\n",
    "print(*args, sep=' ', end='\\n')  #  shift + tab >> To check functionality of any function\n",
    "\n",
    "*args >> N number of arguments\n",
    "\n"
   ]
  },
  {
   "cell_type": "code",
   "execution_count": 1,
   "id": "0c71ca20-1b4e-4361-af61-dee8bdbf2a05",
   "metadata": {},
   "outputs": [
    {
     "name": "stdout",
     "output_type": "stream",
     "text": [
      "10\n"
     ]
    }
   ],
   "source": [
    "x = 10\n",
    "\n",
    "print(x)"
   ]
  },
  {
   "cell_type": "code",
   "execution_count": 3,
   "id": "dd300d4b-280c-44aa-93c6-99b48a75be9c",
   "metadata": {},
   "outputs": [
    {
     "name": "stdout",
     "output_type": "stream",
     "text": [
      "x\n"
     ]
    }
   ],
   "source": [
    "x = 10\n",
    "\n",
    "print('x')"
   ]
  },
  {
   "cell_type": "code",
   "execution_count": 7,
   "id": "1769e766-b375-45bd-b806-68afc7476b95",
   "metadata": {},
   "outputs": [
    {
     "name": "stdout",
     "output_type": "stream",
     "text": [
      "10\n"
     ]
    }
   ],
   "source": [
    "x = 10 \n",
    "print(x)\n",
    "y = 20"
   ]
  },
  {
   "cell_type": "code",
   "execution_count": 9,
   "id": "8248509d-7c34-4903-81eb-044b054a79b1",
   "metadata": {},
   "outputs": [
    {
     "name": "stdout",
     "output_type": "stream",
     "text": [
      "20\n"
     ]
    }
   ],
   "source": [
    "print(y)"
   ]
  },
  {
   "cell_type": "code",
   "execution_count": 11,
   "id": "5052d0ed-e752-46a7-928b-e91eeeddfe42",
   "metadata": {},
   "outputs": [
    {
     "ename": "NameError",
     "evalue": "name 'z' is not defined",
     "output_type": "error",
     "traceback": [
      "\u001b[1;31m---------------------------------------------------------------------------\u001b[0m",
      "\u001b[1;31mNameError\u001b[0m                                 Traceback (most recent call last)",
      "Cell \u001b[1;32mIn[11], line 1\u001b[0m\n\u001b[1;32m----> 1\u001b[0m \u001b[38;5;28mprint\u001b[39m(z)\n",
      "\u001b[1;31mNameError\u001b[0m: name 'z' is not defined"
     ]
    }
   ],
   "source": [
    "print(z)"
   ]
  },
  {
   "cell_type": "code",
   "execution_count": 19,
   "id": "d0e85afe-bfd0-4ba9-82a0-ee88a66e106f",
   "metadata": {},
   "outputs": [
    {
     "name": "stdout",
     "output_type": "stream",
     "text": [
      "30\n",
      "40.5\n",
      "Python\n"
     ]
    }
   ],
   "source": [
    "x = 30       # int\n",
    "y = 40.5     # float\n",
    "z = 'Python' # String\n",
    "\n",
    "print(x)\n",
    "print(y)\n",
    "print(z)"
   ]
  },
  {
   "cell_type": "code",
   "execution_count": 23,
   "id": "f83873c2-58b8-47c3-87ed-cf56ca3a8029",
   "metadata": {},
   "outputs": [
    {
     "name": "stdout",
     "output_type": "stream",
     "text": [
      "30 40.5 Python\n"
     ]
    }
   ],
   "source": [
    "print(x,y,z)"
   ]
  },
  {
   "cell_type": "code",
   "execution_count": 33,
   "id": "94855e39-4e96-46d9-ad43-a005cf87a492",
   "metadata": {},
   "outputs": [
    {
     "name": "stdout",
     "output_type": "stream",
     "text": [
      "Value of x is : 30\n",
      "Value of y is = 40.5\n",
      "Value of z is = Python\n"
     ]
    }
   ],
   "source": [
    "x = 30       # int\n",
    "y = 40.5     # float\n",
    "z = 'Python' # String\n",
    "\n",
    "print('Value of x is :',x)\n",
    "print('Value of y is =',y)\n",
    "print('Value of z is =',z)"
   ]
  },
  {
   "cell_type": "markdown",
   "id": "1b925cea-1aee-4e4a-981e-b49d15726228",
   "metadata": {},
   "source": [
    "# String Formatting"
   ]
  },
  {
   "cell_type": "markdown",
   "id": "d1e3ec7c-1ba9-49ad-8122-ca85f7dff363",
   "metadata": {},
   "source": [
    "### 1. f- string"
   ]
  },
  {
   "cell_type": "code",
   "execution_count": 39,
   "id": "3c079445-5ca7-4f55-a862-d2de9828448d",
   "metadata": {},
   "outputs": [
    {
     "name": "stdout",
     "output_type": "stream",
     "text": [
      "20\n"
     ]
    }
   ],
   "source": [
    "x = 40\n",
    "y = 20\n",
    "\n",
    "z = x - y\n",
    "print(z)"
   ]
  },
  {
   "cell_type": "code",
   "execution_count": 41,
   "id": "6a144a2d-3214-4eef-9c60-8a4b9e95e9f3",
   "metadata": {},
   "outputs": [
    {
     "name": "stdout",
     "output_type": "stream",
     "text": [
      "Value of z is : 20\n"
     ]
    }
   ],
   "source": [
    "x = 40\n",
    "y = 20\n",
    "\n",
    "z = x - y\n",
    "print('Value of z is :',z)"
   ]
  },
  {
   "cell_type": "code",
   "execution_count": 43,
   "id": "bf0e21d9-a0b5-4ae2-b400-26daed6cdb00",
   "metadata": {},
   "outputs": [
    {
     "name": "stdout",
     "output_type": "stream",
     "text": [
      "Substraction of 40 and 20 is : 20\n"
     ]
    }
   ],
   "source": [
    "x = 40\n",
    "y = 20\n",
    "\n",
    "z = x - y\n",
    "print('Substraction of 40 and 20 is :',z)"
   ]
  },
  {
   "cell_type": "code",
   "execution_count": 45,
   "id": "944c603c-25cd-4daa-9553-cb7f40f5a41d",
   "metadata": {},
   "outputs": [
    {
     "name": "stdout",
     "output_type": "stream",
     "text": [
      "Substraction of 40 and 20 is : 10\n"
     ]
    }
   ],
   "source": [
    "x = 50\n",
    "y = 40\n",
    "\n",
    "z = x - y\n",
    "print('Substraction of 40 and 20 is :',z)"
   ]
  },
  {
   "cell_type": "code",
   "execution_count": 66,
   "id": "06fb225f-8e23-473b-970e-15e81b0847ce",
   "metadata": {},
   "outputs": [
    {
     "name": "stdout",
     "output_type": "stream",
     "text": [
      "Substraction of 50 and 40 is 10\n"
     ]
    }
   ],
   "source": [
    "x = 50\n",
    "y = 40\n",
    "\n",
    "z = x - y\n",
    "print('Substraction of',x,'and',y,'is',z)"
   ]
  },
  {
   "cell_type": "code",
   "execution_count": 68,
   "id": "c3e78cd4-e7bf-47c1-aa83-bcee95ed56f0",
   "metadata": {},
   "outputs": [
    {
     "name": "stdout",
     "output_type": "stream",
     "text": [
      "Substraction of 500 and 400 is 100\n"
     ]
    }
   ],
   "source": [
    "x = 500\n",
    "y = 400\n",
    "\n",
    "z = x - y\n",
    "print('Substraction of',x,'and',y,'is',z)"
   ]
  },
  {
   "cell_type": "code",
   "execution_count": 47,
   "id": "fe6435bc-432b-4c6c-bd61-b2d2852bba63",
   "metadata": {},
   "outputs": [
    {
     "name": "stdout",
     "output_type": "stream",
     "text": [
      "Substraction of 50 and 40 is :10\n"
     ]
    }
   ],
   "source": [
    "x = 50\n",
    "y = 40\n",
    "\n",
    "z = x - y\n",
    "print(f'Substraction of {x} and {y} is :{z}')"
   ]
  },
  {
   "cell_type": "code",
   "execution_count": 49,
   "id": "0fa0adbe-a407-4041-a4b3-81c4351c5346",
   "metadata": {},
   "outputs": [
    {
     "name": "stdout",
     "output_type": "stream",
     "text": [
      "Substraction of 500 and 250 is :250\n"
     ]
    }
   ],
   "source": [
    "x = 500\n",
    "y = 250\n",
    "\n",
    "z = x - y\n",
    "print(f'Substraction of {x} and {y} is :{x-y}')"
   ]
  },
  {
   "cell_type": "code",
   "execution_count": 51,
   "id": "e532fbc4-3de2-47a6-9c18-62f1518dc51f",
   "metadata": {},
   "outputs": [
    {
     "name": "stdout",
     "output_type": "stream",
     "text": [
      "Substraction of 50.45 and 40.23 is :10.220000000000006\n"
     ]
    }
   ],
   "source": [
    "x = 50.45\n",
    "y = 40.23\n",
    "\n",
    "z = x - y\n",
    "print(f'Substraction of {x} and {y} is :{z}')"
   ]
  },
  {
   "cell_type": "markdown",
   "id": "04d20167-09ae-426d-8592-9de4774c62d0",
   "metadata": {},
   "source": [
    "### 2. Format string"
   ]
  },
  {
   "cell_type": "code",
   "execution_count": 56,
   "id": "222b889f-4d5b-448b-9fb0-e3213acb26ec",
   "metadata": {},
   "outputs": [
    {
     "name": "stdout",
     "output_type": "stream",
     "text": [
      "250\n"
     ]
    }
   ],
   "source": [
    "x = 500\n",
    "y = 250\n",
    "\n",
    "sub = x - y\n",
    "print(sub)"
   ]
  },
  {
   "cell_type": "code",
   "execution_count": 60,
   "id": "ce3d3839-34cd-439e-951f-a2fda183a1b9",
   "metadata": {},
   "outputs": [
    {
     "name": "stdout",
     "output_type": "stream",
     "text": [
      "Addition of 500 and 250 is 750\n",
      "Addition of 500 and 250 is 750\n"
     ]
    }
   ],
   "source": [
    "x = 500\n",
    "y = 250\n",
    "\n",
    "add = x + y\n",
    "print(f'Addition of {x} and {y} is {add}')\n",
    "print('Addition of {} and {} is {}'.format(x,y,add)) # Fomat string "
   ]
  },
  {
   "cell_type": "code",
   "execution_count": 62,
   "id": "e6a92091-6a8e-4e14-80e3-cbb000db0f8a",
   "metadata": {},
   "outputs": [
    {
     "name": "stdout",
     "output_type": "stream",
     "text": [
      "Addition of 500 and 250 is 750\n",
      "Addition of 250 and 500 is 750\n"
     ]
    }
   ],
   "source": [
    "x = 500\n",
    "y = 250\n",
    "\n",
    "add = x + y\n",
    "print(f'Addition of {x} and {y} is {add}')\n",
    "print('Addition of {} and {} is {}'.format(y,x,add)) # Fomat string "
   ]
  },
  {
   "cell_type": "code",
   "execution_count": 64,
   "id": "4676fd2a-a03e-477c-8c95-36e47dc716f0",
   "metadata": {},
   "outputs": [
    {
     "name": "stdout",
     "output_type": "stream",
     "text": [
      "Addition of 500 and 250 is 750\n",
      "Addition of 750 and 500 is 250\n"
     ]
    }
   ],
   "source": [
    "x = 500\n",
    "y = 250\n",
    "\n",
    "add = x + y\n",
    "print(f'Addition of {x} and {y} is {add}')\n",
    "print('Addition of {} and {} is {}'.format(add,x,y)) # Fomat string "
   ]
  },
  {
   "cell_type": "code",
   "execution_count": 70,
   "id": "51189632-86e1-4bd5-95ea-e39dd7ce13b6",
   "metadata": {},
   "outputs": [
    {
     "name": "stdout",
     "output_type": "stream",
     "text": [
      "750\n",
      "Addition of x and y is 750\n",
      "Addition of 500 and 250 is 750\n",
      "Addition of 500 and 250 is 750\n",
      "Addition of 750 and 500 is 250\n"
     ]
    }
   ],
   "source": [
    "x = 500\n",
    "y = 250\n",
    "\n",
    "add = x + y\n",
    "print(add)\n",
    "print(\"Addition of x and y is\",add)\n",
    "print('Addition of',x,'and',y,'is',add)\n",
    "print(f'Addition of {x} and {y} is {add}')\n",
    "print('Addition of {} and {} is {}'.format(add,x,y)) # Fomat string "
   ]
  },
  {
   "cell_type": "markdown",
   "id": "5462c8d1-ac44-42f4-b730-94ee5ac3b9f2",
   "metadata": {},
   "source": [
    "### 3.% sign"
   ]
  },
  {
   "cell_type": "code",
   "execution_count": 73,
   "id": "b70b6eef-3992-411a-b3a1-9cba3dda3477",
   "metadata": {},
   "outputs": [
    {
     "name": "stdout",
     "output_type": "stream",
     "text": [
      "Addition of 500 and 250 is 750\n"
     ]
    }
   ],
   "source": [
    "x = 500\n",
    "y = 250\n",
    "\n",
    "add = x + y\n",
    "print('Addition of %d and %d is %d'%(x,y,add))"
   ]
  },
  {
   "cell_type": "code",
   "execution_count": 75,
   "id": "b353afe3-c6fd-4b8b-b309-254f8424a49c",
   "metadata": {},
   "outputs": [
    {
     "name": "stdout",
     "output_type": "stream",
     "text": [
      "Addition of 500 and 250.666000 is 750\n"
     ]
    }
   ],
   "source": [
    "x = 500\n",
    "y = 250.666\n",
    "\n",
    "add = x + y\n",
    "print('Addition of %d and %f is %d'%(x,y,add))"
   ]
  },
  {
   "cell_type": "code",
   "execution_count": 83,
   "id": "2bf2d8a3-3bbf-4607-afc0-28e2340bb8c6",
   "metadata": {},
   "outputs": [
    {
     "name": "stdout",
     "output_type": "stream",
     "text": [
      "750\n",
      "Addition of x and y is 750\n",
      "Addition of 500 and 250 is 750\n",
      "Addition of 500 and 250 is 750\n",
      "Addition of 750 and 500 is 250\n",
      "Addition of 500 and 250 is 750\n"
     ]
    }
   ],
   "source": [
    "x = 500\n",
    "y = 250\n",
    "\n",
    "add = x + y\n",
    "\n",
    "print(add)\n",
    "print(\"Addition of x and y is\",add)\n",
    "print('Addition of',x,'and',y,'is',add)\n",
    "print(f'Addition of {x} and {y} is {add}')           # F-string\n",
    "print('Addition of {} and {} is {}'.format(add,x,y)) # Fomat string \n",
    "print('Addition of %d and %d is %d'%(x,y,add))       # %sign"
   ]
  },
  {
   "cell_type": "markdown",
   "id": "35a55b15-0006-4c1f-8c90-212739798df2",
   "metadata": {},
   "source": [
    "# end Arguments "
   ]
  },
  {
   "cell_type": "code",
   "execution_count": null,
   "id": "040381f7-5565-4375-a752-a1391bd31db6",
   "metadata": {},
   "outputs": [],
   "source": [
    "\\n >> New Line"
   ]
  },
  {
   "cell_type": "code",
   "execution_count": 1,
   "id": "59bb3bd6-36b7-4f87-9ada-eab89f02beef",
   "metadata": {},
   "outputs": [
    {
     "name": "stdout",
     "output_type": "stream",
     "text": [
      "Data\n",
      "Science\n"
     ]
    }
   ],
   "source": [
    "print(\"Data\")\n",
    "print(\"Science\")"
   ]
  },
  {
   "cell_type": "code",
   "execution_count": 3,
   "id": "17b5730c-8956-4d7c-bd26-194d3414ea70",
   "metadata": {},
   "outputs": [
    {
     "name": "stdout",
     "output_type": "stream",
     "text": [
      "Data\n",
      "abcd\n",
      "\n",
      "Science\n"
     ]
    }
   ],
   "source": [
    "print(\"Data\")\n",
    "print(\"abcd\\n\")\n",
    "print(\"Science\")"
   ]
  },
  {
   "cell_type": "code",
   "execution_count": 5,
   "id": "289b41a9-ffe2-43d1-9f18-b86807ae6419",
   "metadata": {},
   "outputs": [
    {
     "name": "stdout",
     "output_type": "stream",
     "text": [
      "Data\n",
      "Science\n"
     ]
    }
   ],
   "source": [
    "print(\"Data\", end='\\n')\n",
    "print(\"Science\")"
   ]
  },
  {
   "cell_type": "code",
   "execution_count": 7,
   "id": "6d5ca021-8dd5-4c49-b569-91b954876c87",
   "metadata": {},
   "outputs": [
    {
     "name": "stdout",
     "output_type": "stream",
     "text": [
      "Data**Science\n"
     ]
    }
   ],
   "source": [
    "print(\"Data\", end='**')\n",
    "print(\"Science\")"
   ]
  },
  {
   "cell_type": "code",
   "execution_count": 9,
   "id": "efece3e5-b30b-4eda-809b-6582640b9b3c",
   "metadata": {},
   "outputs": [
    {
     "name": "stdout",
     "output_type": "stream",
     "text": [
      "Value of x is : 30\n",
      "Value of y is = 40.5\n",
      "Value of z is = Python\n"
     ]
    }
   ],
   "source": [
    "x = 30       # int\n",
    "y = 40.5     # float\n",
    "z = 'Python' # String\n",
    "\n",
    "print('Value of x is :',x)\n",
    "print('Value of y is =',y)\n",
    "print('Value of z is =',z)"
   ]
  },
  {
   "cell_type": "code",
   "execution_count": 11,
   "id": "80c09f49-8e91-4a1f-8261-fd154b35abdf",
   "metadata": {},
   "outputs": [
    {
     "name": "stdout",
     "output_type": "stream",
     "text": [
      "Value of x is : 30\n",
      "Value of y is = 40.5\n",
      "Value of z is = Python\n"
     ]
    }
   ],
   "source": [
    "x = 30       # int\n",
    "y = 40.5     # float\n",
    "z = 'Python' # String\n",
    "\n",
    "print('Value of x is :',x,end='\\n')\n",
    "print('Value of y is =',y,end='\\n')\n",
    "print('Value of z is =',z,end='\\n')"
   ]
  },
  {
   "cell_type": "code",
   "execution_count": 13,
   "id": "07ee4749-e8de-4947-b114-9515ba643a2e",
   "metadata": {},
   "outputs": [
    {
     "name": "stdout",
     "output_type": "stream",
     "text": [
      "Value of x is : 30---Value of y is = 40.5\n",
      "Value of z is = Python\n"
     ]
    }
   ],
   "source": [
    "x = 30       # int\n",
    "y = 40.5     # float\n",
    "z = 'Python' # String\n",
    "\n",
    "print('Value of x is :',x,end='---')\n",
    "print('Value of y is =',y,end='\\n')\n",
    "print('Value of z is =',z,end='\\n')"
   ]
  },
  {
   "cell_type": "code",
   "execution_count": 15,
   "id": "64918503-2658-421b-8a9a-8a0b48ba8159",
   "metadata": {},
   "outputs": [
    {
     "name": "stdout",
     "output_type": "stream",
     "text": [
      "Python\n",
      "5555\n",
      "Data\n",
      "Science\n"
     ]
    }
   ],
   "source": [
    "print(\"Python\",end='\\n')\n",
    "print(5555,end='\\n')\n",
    "print(\"Data\", end='\\n')\n",
    "print(\"Science\")"
   ]
  },
  {
   "cell_type": "code",
   "execution_count": 17,
   "id": "72f3f2ed-e07a-4819-b450-6805947f8d4e",
   "metadata": {},
   "outputs": [
    {
     "name": "stdout",
     "output_type": "stream",
     "text": [
      "Python@5555    Data\n",
      "Science\n"
     ]
    }
   ],
   "source": [
    "print(\"Python\",end='@')\n",
    "print(5555,end='    ')\n",
    "print(\"Data\", end='\\n')\n",
    "print(\"Science\")"
   ]
  },
  {
   "cell_type": "code",
   "execution_count": 19,
   "id": "7452bffd-118e-4356-bd54-49d919286ba5",
   "metadata": {},
   "outputs": [
    {
     "name": "stdout",
     "output_type": "stream",
     "text": [
      "10 20 30\n"
     ]
    }
   ],
   "source": [
    "#sep=' '\n",
    "\n",
    "\n",
    "x = 10\n",
    "y = 20\n",
    "z = 30\n",
    "\n",
    "print(x,y,z)"
   ]
  },
  {
   "cell_type": "code",
   "execution_count": 21,
   "id": "44b7b79f-9ec1-4a57-a1c9-b723a0c73d89",
   "metadata": {},
   "outputs": [
    {
     "name": "stdout",
     "output_type": "stream",
     "text": [
      "10 20 30\n"
     ]
    }
   ],
   "source": [
    "x = 10\n",
    "y = 20\n",
    "z = 30\n",
    "\n",
    "print(x,y,z,sep=' ')"
   ]
  },
  {
   "cell_type": "code",
   "execution_count": 23,
   "id": "3f2bb163-fcfb-44af-ab5a-158889f30d4e",
   "metadata": {},
   "outputs": [
    {
     "name": "stdout",
     "output_type": "stream",
     "text": [
      "10,20,30\n"
     ]
    }
   ],
   "source": [
    "x = 10\n",
    "y = 20\n",
    "z = 30\n",
    "\n",
    "print(x,y,z,sep=',')"
   ]
  },
  {
   "cell_type": "code",
   "execution_count": 25,
   "id": "71aff2a2-8da0-4ac1-9c54-1fe46344c476",
   "metadata": {},
   "outputs": [
    {
     "name": "stdout",
     "output_type": "stream",
     "text": [
      "10++++20++++30\n"
     ]
    }
   ],
   "source": [
    "x = 10\n",
    "y = 20\n",
    "z = 30\n",
    "\n",
    "print(x,y,z,sep='++++')"
   ]
  },
  {
   "cell_type": "code",
   "execution_count": null,
   "id": "9959b315-b870-48ad-a9de-417053d83cab",
   "metadata": {},
   "outputs": [],
   "source": []
  }
 ],
 "metadata": {
  "kernelspec": {
   "display_name": "Python 3 (ipykernel)",
   "language": "python",
   "name": "python3"
  },
  "language_info": {
   "codemirror_mode": {
    "name": "ipython",
    "version": 3
   },
   "file_extension": ".py",
   "mimetype": "text/x-python",
   "name": "python",
   "nbconvert_exporter": "python",
   "pygments_lexer": "ipython3",
   "version": "3.12.4"
  }
 },
 "nbformat": 4,
 "nbformat_minor": 5
}
